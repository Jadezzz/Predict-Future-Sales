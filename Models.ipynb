{
 "cells": [
  {
   "cell_type": "markdown",
   "metadata": {},
   "source": [
    "# Model Selection and Comparison\n",
    "\n",
    "## Table of contents\n",
    "\n",
    "1. Original XGBoost\n",
    "2. Simplified XGBoost\n",
    "3. Another XGBoost\n",
    "4. Yet Another XGBoost\n",
    "5. Combining Models\n",
    "6. Result Summary\n",
    "\n",
    "主要參考 [Kaggle Kernel feature-engineering-xgboost](https://www.kaggle.com/dhimananubhav/feature-engineering-xgboost)"
   ]
  },
  {
   "cell_type": "code",
   "execution_count": 1,
   "metadata": {},
   "outputs": [],
   "source": [
    "from xgboost import XGBRegressor\n",
    "from xgboost import plot_importance\n",
    "import pandas as pd\n",
    "import matplotlib.pyplot as plt\n",
    "%matplotlib inline\n",
    "\n",
    "def plot_features(booster, figsize):    \n",
    "    fig, ax = plt.subplots(1,1,figsize=figsize)\n",
    "    return plot_importance(booster=booster, ax=ax)\n",
    "\n",
    "import sys\n",
    "import gc\n",
    "import pickle"
   ]
  },
  {
   "cell_type": "code",
   "execution_count": 2,
   "metadata": {},
   "outputs": [],
   "source": [
    "test  = pd.read_csv('dataset/test.csv').set_index('ID')"
   ]
  },
  {
   "cell_type": "markdown",
   "metadata": {},
   "source": [
    "## 1. Original XGBoost\n",
    "\n",
    "Use the original settings of XGBoost in the kernel"
   ]
  },
  {
   "cell_type": "markdown",
   "metadata": {},
   "source": [
    "### Feature selection"
   ]
  },
  {
   "cell_type": "code",
   "execution_count": 41,
   "metadata": {},
   "outputs": [],
   "source": [
    "all_data = pd.read_pickle('data.pkl')\n",
    "data = all_data[[\n",
    "    'date_block_num',\n",
    "    'shop_id',\n",
    "    'item_id',\n",
    "    'item_cnt_month',\n",
    "    'city_code',\n",
    "    'item_category_id',\n",
    "    'type_code',\n",
    "    'subtype_code',\n",
    "    'item_cnt_month_lag_1',\n",
    "    'item_cnt_month_lag_2',\n",
    "    'item_cnt_month_lag_3',\n",
    "    'item_cnt_month_lag_6',\n",
    "    'item_cnt_month_lag_12',\n",
    "    'date_avg_item_cnt_lag_1',\n",
    "    'date_item_avg_item_cnt_lag_1',\n",
    "    'date_item_avg_item_cnt_lag_2',\n",
    "    'date_item_avg_item_cnt_lag_3',\n",
    "    'date_item_avg_item_cnt_lag_6',\n",
    "    'date_item_avg_item_cnt_lag_12',\n",
    "    'date_shop_avg_item_cnt_lag_1',\n",
    "    'date_shop_avg_item_cnt_lag_2',\n",
    "    'date_shop_avg_item_cnt_lag_3',\n",
    "    'date_shop_avg_item_cnt_lag_6',\n",
    "    'date_shop_avg_item_cnt_lag_12',\n",
    "    'date_cat_avg_item_cnt_lag_1',\n",
    "    'date_shop_cat_avg_item_cnt_lag_1',\n",
    "    #'date_shop_type_avg_item_cnt_lag_1',\n",
    "    #'date_shop_subtype_avg_item_cnt_lag_1',\n",
    "    'date_city_avg_item_cnt_lag_1',\n",
    "    'date_item_city_avg_item_cnt_lag_1',\n",
    "    #'date_type_avg_item_cnt_lag_1',\n",
    "    #'date_subtype_avg_item_cnt_lag_1',\n",
    "    'delta_price_lag',\n",
    "    'month',\n",
    "    'days',\n",
    "    'item_shop_last_sale',\n",
    "    'item_last_sale',\n",
    "    'item_shop_first_sale',\n",
    "    'item_first_sale',\n",
    "]]"
   ]
  },
  {
   "cell_type": "markdown",
   "metadata": {},
   "source": [
    "### Validation set is month 33"
   ]
  },
  {
   "cell_type": "code",
   "execution_count": 42,
   "metadata": {},
   "outputs": [],
   "source": [
    "X_train = data[data.date_block_num < 33].drop(['item_cnt_month'], axis=1)\n",
    "Y_train = data[data.date_block_num < 33]['item_cnt_month']\n",
    "X_valid = data[data.date_block_num == 33].drop(['item_cnt_month'], axis=1)\n",
    "Y_valid = data[data.date_block_num == 33]['item_cnt_month']\n",
    "X_test = data[data.date_block_num == 34].drop(['item_cnt_month'], axis=1)"
   ]
  },
  {
   "cell_type": "code",
   "execution_count": 43,
   "metadata": {},
   "outputs": [],
   "source": [
    "del all_data\n",
    "gc.collect();"
   ]
  },
  {
   "cell_type": "markdown",
   "metadata": {},
   "source": [
    "### XGBoost Model"
   ]
  },
  {
   "cell_type": "code",
   "execution_count": 44,
   "metadata": {},
   "outputs": [
    {
     "name": "stderr",
     "output_type": "stream",
     "text": [
      "/home/robin/anaconda3/envs/tensorflow/lib/python3.6/site-packages/xgboost/core.py:587: FutureWarning: Series.base is deprecated and will be removed in a future version\n",
      "  if getattr(data, 'base', None) is not None and \\\n",
      "/home/robin/anaconda3/envs/tensorflow/lib/python3.6/site-packages/xgboost/core.py:588: FutureWarning: Series.base is deprecated and will be removed in a future version\n",
      "  data.base is not None and isinstance(data, np.ndarray) \\\n"
     ]
    },
    {
     "name": "stdout",
     "output_type": "stream",
     "text": [
      "[0]\tvalidation_0-rmse:1.15123\tvalidation_1-rmse:1.11693\n",
      "Multiple eval metrics have been passed: 'validation_1-rmse' will be used for early stopping.\n",
      "\n",
      "Will train until validation_1-rmse hasn't improved in 10 rounds.\n",
      "[1]\tvalidation_0-rmse:1.10717\tvalidation_1-rmse:1.08394\n",
      "[2]\tvalidation_0-rmse:1.06633\tvalidation_1-rmse:1.05303\n",
      "[3]\tvalidation_0-rmse:1.03158\tvalidation_1-rmse:1.02734\n",
      "[4]\tvalidation_0-rmse:1.00474\tvalidation_1-rmse:1.0085\n",
      "[5]\tvalidation_0-rmse:0.979658\tvalidation_1-rmse:0.990054\n",
      "[6]\tvalidation_0-rmse:0.958644\tvalidation_1-rmse:0.975098\n",
      "[7]\tvalidation_0-rmse:0.939303\tvalidation_1-rmse:0.961276\n",
      "[8]\tvalidation_0-rmse:0.924121\tvalidation_1-rmse:0.951114\n",
      "[9]\tvalidation_0-rmse:0.911588\tvalidation_1-rmse:0.943141\n",
      "[10]\tvalidation_0-rmse:0.90044\tvalidation_1-rmse:0.936334\n",
      "[11]\tvalidation_0-rmse:0.890925\tvalidation_1-rmse:0.930843\n",
      "[12]\tvalidation_0-rmse:0.883074\tvalidation_1-rmse:0.926563\n",
      "[13]\tvalidation_0-rmse:0.876463\tvalidation_1-rmse:0.923281\n",
      "[14]\tvalidation_0-rmse:0.870235\tvalidation_1-rmse:0.920866\n",
      "[15]\tvalidation_0-rmse:0.865022\tvalidation_1-rmse:0.918198\n",
      "[16]\tvalidation_0-rmse:0.860279\tvalidation_1-rmse:0.916016\n",
      "[17]\tvalidation_0-rmse:0.856283\tvalidation_1-rmse:0.914495\n",
      "[18]\tvalidation_0-rmse:0.852603\tvalidation_1-rmse:0.913192\n",
      "[19]\tvalidation_0-rmse:0.849424\tvalidation_1-rmse:0.912193\n",
      "[20]\tvalidation_0-rmse:0.846772\tvalidation_1-rmse:0.911185\n",
      "[21]\tvalidation_0-rmse:0.844221\tvalidation_1-rmse:0.910248\n",
      "[22]\tvalidation_0-rmse:0.841753\tvalidation_1-rmse:0.909238\n",
      "[23]\tvalidation_0-rmse:0.839783\tvalidation_1-rmse:0.908452\n",
      "[24]\tvalidation_0-rmse:0.837641\tvalidation_1-rmse:0.90786\n",
      "[25]\tvalidation_0-rmse:0.835616\tvalidation_1-rmse:0.906879\n",
      "[26]\tvalidation_0-rmse:0.834183\tvalidation_1-rmse:0.906934\n",
      "[27]\tvalidation_0-rmse:0.832421\tvalidation_1-rmse:0.906509\n",
      "[28]\tvalidation_0-rmse:0.830927\tvalidation_1-rmse:0.906962\n",
      "[29]\tvalidation_0-rmse:0.829432\tvalidation_1-rmse:0.906879\n",
      "[30]\tvalidation_0-rmse:0.828328\tvalidation_1-rmse:0.906918\n",
      "[31]\tvalidation_0-rmse:0.826976\tvalidation_1-rmse:0.906208\n",
      "[32]\tvalidation_0-rmse:0.826067\tvalidation_1-rmse:0.905973\n",
      "[33]\tvalidation_0-rmse:0.825325\tvalidation_1-rmse:0.90556\n",
      "[34]\tvalidation_0-rmse:0.824381\tvalidation_1-rmse:0.906012\n",
      "[35]\tvalidation_0-rmse:0.823643\tvalidation_1-rmse:0.906082\n",
      "[36]\tvalidation_0-rmse:0.822981\tvalidation_1-rmse:0.906087\n",
      "[37]\tvalidation_0-rmse:0.822151\tvalidation_1-rmse:0.906309\n",
      "[38]\tvalidation_0-rmse:0.821407\tvalidation_1-rmse:0.906274\n",
      "[39]\tvalidation_0-rmse:0.820802\tvalidation_1-rmse:0.906671\n",
      "[40]\tvalidation_0-rmse:0.820165\tvalidation_1-rmse:0.906731\n",
      "[41]\tvalidation_0-rmse:0.819639\tvalidation_1-rmse:0.906348\n",
      "[42]\tvalidation_0-rmse:0.819051\tvalidation_1-rmse:0.906127\n",
      "[43]\tvalidation_0-rmse:0.818699\tvalidation_1-rmse:0.906309\n",
      "Stopping. Best iteration:\n",
      "[33]\tvalidation_0-rmse:0.825325\tvalidation_1-rmse:0.90556\n",
      "\n"
     ]
    },
    {
     "data": {
      "text/plain": [
       "XGBRegressor(base_score=0.5, booster='gbtree', colsample_bylevel=1,\n",
       "       colsample_bytree=0.8, eta=0.3, gamma=0, importance_type='gain',\n",
       "       learning_rate=0.1, max_delta_step=0, max_depth=8,\n",
       "       min_child_weight=300, missing=None, n_estimators=1000, n_jobs=1,\n",
       "       nthread=6, objective='reg:linear', random_state=0, reg_alpha=0,\n",
       "       reg_lambda=1, scale_pos_weight=1, seed=42, silent=True,\n",
       "       subsample=0.8)"
      ]
     },
     "execution_count": 44,
     "metadata": {},
     "output_type": "execute_result"
    }
   ],
   "source": [
    "model = XGBRegressor(\n",
    "    max_depth=8,\n",
    "    n_estimators=1000,\n",
    "    min_child_weight=300, \n",
    "    colsample_bytree=0.8, \n",
    "    subsample=0.8, \n",
    "    nthread=6,\n",
    "    eta=0.3,    \n",
    "    seed=42)\n",
    "\n",
    "model.fit(\n",
    "    X_train, \n",
    "    Y_train, \n",
    "    eval_metric=\"rmse\", \n",
    "    eval_set=[(X_train, Y_train), (X_valid, Y_valid)], \n",
    "    verbose=True, \n",
    "    early_stopping_rounds = 10)"
   ]
  },
  {
   "cell_type": "code",
   "execution_count": 45,
   "metadata": {},
   "outputs": [],
   "source": [
    "Y_test = model.predict(X_test).clip(0, 20)\n",
    "\n",
    "submission = pd.DataFrame({\n",
    "    \"ID\": test.index, \n",
    "    \"item_cnt_month\": Y_test\n",
    "})\n",
    "submission.to_csv('xgb_submission_orig.csv', index=False)"
   ]
  },
  {
   "cell_type": "markdown",
   "metadata": {},
   "source": [
    "### Score \n",
    "\n",
    "0.91946\n",
    "\n",
    "和作者原本的結果並不一樣（0.90646）"
   ]
  },
  {
   "cell_type": "code",
   "execution_count": 19,
   "metadata": {},
   "outputs": [
    {
     "data": {
      "text/plain": [
       "<matplotlib.axes._subplots.AxesSubplot at 0x7fdf7008cb70>"
      ]
     },
     "execution_count": 19,
     "metadata": {},
     "output_type": "execute_result"
    },
    {
     "data": {
      "image/png": "[encoded data removed]",
      "text/plain": [
       "<Figure size 720x1008 with 1 Axes>"
      ]
     },
     "metadata": {
      "needs_background": "light"
     },
     "output_type": "display_data"
    }
   ],
   "source": [
    "plot_features(model, (10,14))"
   ]
  },
  {
   "cell_type": "markdown",
   "metadata": {},
   "source": [
    "## 2. Simplified XGBoost\n",
    "\n",
    "去除 importance < 200 的 feature"
   ]
  },
  {
   "cell_type": "code",
   "execution_count": 15,
   "metadata": {},
   "outputs": [],
   "source": [
    "all_data = pd.read_pickle('data.pkl')\n",
    "data = all_data[[\n",
    "    'date_block_num',\n",
    "    'shop_id',\n",
    "    'item_id',\n",
    "    'item_cnt_month',\n",
    "    #'city_code',\n",
    "    'item_category_id',\n",
    "    #'type_code',\n",
    "    'subtype_code',\n",
    "    'item_cnt_month_lag_1',\n",
    "    'item_cnt_month_lag_2',\n",
    "    'item_cnt_month_lag_3',\n",
    "    #'item_cnt_month_lag_6',\n",
    "    'item_cnt_month_lag_12',\n",
    "    'date_avg_item_cnt_lag_1',\n",
    "    'date_item_avg_item_cnt_lag_1',\n",
    "    'date_item_avg_item_cnt_lag_2',\n",
    "    'date_item_avg_item_cnt_lag_3',\n",
    "    #'date_item_avg_item_cnt_lag_6',\n",
    "    #'date_item_avg_item_cnt_lag_12',\n",
    "    'date_shop_avg_item_cnt_lag_1',\n",
    "    'date_shop_avg_item_cnt_lag_2',\n",
    "    #'date_shop_avg_item_cnt_lag_3',\n",
    "    #'date_shop_avg_item_cnt_lag_6',\n",
    "    #'date_shop_avg_item_cnt_lag_12',\n",
    "    'date_cat_avg_item_cnt_lag_1',\n",
    "    'date_shop_cat_avg_item_cnt_lag_1',\n",
    "    #'date_shop_type_avg_item_cnt_lag_1',\n",
    "    #'date_shop_subtype_avg_item_cnt_lag_1',\n",
    "    #'date_city_avg_item_cnt_lag_1',\n",
    "    'date_item_city_avg_item_cnt_lag_1',\n",
    "    #'date_type_avg_item_cnt_lag_1',\n",
    "    #'date_subtype_avg_item_cnt_lag_1',\n",
    "    'delta_price_lag',\n",
    "    'month',\n",
    "    'days',\n",
    "    #'item_shop_last_sale',\n",
    "    #'item_last_sale',\n",
    "    #'item_shop_first_sale',\n",
    "    'item_first_sale',\n",
    "]]"
   ]
  },
  {
   "cell_type": "code",
   "execution_count": 16,
   "metadata": {},
   "outputs": [],
   "source": [
    "X_train = data[data.date_block_num < 33].drop(['item_cnt_month'], axis=1)\n",
    "Y_train = data[data.date_block_num < 33]['item_cnt_month']\n",
    "X_valid = data[data.date_block_num == 33].drop(['item_cnt_month'], axis=1)\n",
    "Y_valid = data[data.date_block_num == 33]['item_cnt_month']\n",
    "X_test = data[data.date_block_num == 34].drop(['item_cnt_month'], axis=1)"
   ]
  },
  {
   "cell_type": "code",
   "execution_count": 17,
   "metadata": {},
   "outputs": [],
   "source": [
    "del all_data\n",
    "gc.collect();"
   ]
  },
  {
   "cell_type": "code",
   "execution_count": 18,
   "metadata": {
    "scrolled": true
   },
   "outputs": [
    {
     "name": "stderr",
     "output_type": "stream",
     "text": [
      "/home/robin/anaconda3/envs/tensorflow/lib/python3.6/site-packages/xgboost/core.py:587: FutureWarning: Series.base is deprecated and will be removed in a future version\n",
      "  if getattr(data, 'base', None) is not None and \\\n",
      "/home/robin/anaconda3/envs/tensorflow/lib/python3.6/site-packages/xgboost/core.py:588: FutureWarning: Series.base is deprecated and will be removed in a future version\n",
      "  data.base is not None and isinstance(data, np.ndarray) \\\n"
     ]
    },
    {
     "name": "stdout",
     "output_type": "stream",
     "text": [
      "[0]\tvalidation_0-rmse:1.15308\tvalidation_1-rmse:1.11883\n",
      "Multiple eval metrics have been passed: 'validation_1-rmse' will be used for early stopping.\n",
      "\n",
      "Will train until validation_1-rmse hasn't improved in 10 rounds.\n",
      "[1]\tvalidation_0-rmse:1.10545\tvalidation_1-rmse:1.08119\n",
      "[2]\tvalidation_0-rmse:1.06865\tvalidation_1-rmse:1.05441\n",
      "[3]\tvalidation_0-rmse:1.03372\tvalidation_1-rmse:1.02898\n",
      "[4]\tvalidation_0-rmse:1.00403\tvalidation_1-rmse:1.00723\n",
      "[5]\tvalidation_0-rmse:0.979266\tvalidation_1-rmse:0.989493\n",
      "[6]\tvalidation_0-rmse:0.9594\tvalidation_1-rmse:0.975342\n",
      "[7]\tvalidation_0-rmse:0.941923\tvalidation_1-rmse:0.964545\n",
      "[8]\tvalidation_0-rmse:0.92745\tvalidation_1-rmse:0.954641\n",
      "[9]\tvalidation_0-rmse:0.91542\tvalidation_1-rmse:0.947145\n",
      "[10]\tvalidation_0-rmse:0.905351\tvalidation_1-rmse:0.941181\n",
      "[11]\tvalidation_0-rmse:0.894913\tvalidation_1-rmse:0.934839\n",
      "[12]\tvalidation_0-rmse:0.886822\tvalidation_1-rmse:0.930361\n",
      "[13]\tvalidation_0-rmse:0.880489\tvalidation_1-rmse:0.927572\n",
      "[14]\tvalidation_0-rmse:0.873678\tvalidation_1-rmse:0.92492\n",
      "[15]\tvalidation_0-rmse:0.86919\tvalidation_1-rmse:0.923131\n",
      "[16]\tvalidation_0-rmse:0.865707\tvalidation_1-rmse:0.92158\n",
      "[17]\tvalidation_0-rmse:0.862126\tvalidation_1-rmse:0.920144\n",
      "[18]\tvalidation_0-rmse:0.858657\tvalidation_1-rmse:0.919247\n",
      "[19]\tvalidation_0-rmse:0.854877\tvalidation_1-rmse:0.917896\n",
      "[20]\tvalidation_0-rmse:0.851484\tvalidation_1-rmse:0.91592\n",
      "[21]\tvalidation_0-rmse:0.849244\tvalidation_1-rmse:0.915575\n",
      "[22]\tvalidation_0-rmse:0.846479\tvalidation_1-rmse:0.913853\n",
      "[23]\tvalidation_0-rmse:0.843788\tvalidation_1-rmse:0.912601\n",
      "[24]\tvalidation_0-rmse:0.841342\tvalidation_1-rmse:0.911998\n",
      "[25]\tvalidation_0-rmse:0.840053\tvalidation_1-rmse:0.911916\n",
      "[26]\tvalidation_0-rmse:0.838019\tvalidation_1-rmse:0.911098\n",
      "[27]\tvalidation_0-rmse:0.836237\tvalidation_1-rmse:0.911259\n",
      "[28]\tvalidation_0-rmse:0.834648\tvalidation_1-rmse:0.910695\n",
      "[29]\tvalidation_0-rmse:0.83324\tvalidation_1-rmse:0.910484\n",
      "[30]\tvalidation_0-rmse:0.831122\tvalidation_1-rmse:0.910894\n",
      "[31]\tvalidation_0-rmse:0.829392\tvalidation_1-rmse:0.91041\n",
      "[32]\tvalidation_0-rmse:0.828067\tvalidation_1-rmse:0.91066\n",
      "[33]\tvalidation_0-rmse:0.82724\tvalidation_1-rmse:0.910572\n",
      "[34]\tvalidation_0-rmse:0.825895\tvalidation_1-rmse:0.910143\n",
      "[35]\tvalidation_0-rmse:0.825161\tvalidation_1-rmse:0.909466\n",
      "[36]\tvalidation_0-rmse:0.824332\tvalidation_1-rmse:0.909053\n",
      "[37]\tvalidation_0-rmse:0.823476\tvalidation_1-rmse:0.909294\n",
      "[38]\tvalidation_0-rmse:0.822667\tvalidation_1-rmse:0.909516\n",
      "[39]\tvalidation_0-rmse:0.82165\tvalidation_1-rmse:0.909601\n",
      "[40]\tvalidation_0-rmse:0.820583\tvalidation_1-rmse:0.908918\n",
      "[41]\tvalidation_0-rmse:0.819764\tvalidation_1-rmse:0.909206\n",
      "[42]\tvalidation_0-rmse:0.819082\tvalidation_1-rmse:0.909437\n",
      "[43]\tvalidation_0-rmse:0.81851\tvalidation_1-rmse:0.909027\n",
      "[44]\tvalidation_0-rmse:0.817597\tvalidation_1-rmse:0.909002\n",
      "[45]\tvalidation_0-rmse:0.817173\tvalidation_1-rmse:0.909396\n",
      "[46]\tvalidation_0-rmse:0.816509\tvalidation_1-rmse:0.909052\n",
      "[47]\tvalidation_0-rmse:0.815972\tvalidation_1-rmse:0.908873\n",
      "[48]\tvalidation_0-rmse:0.815303\tvalidation_1-rmse:0.908727\n",
      "[49]\tvalidation_0-rmse:0.814866\tvalidation_1-rmse:0.908687\n",
      "[50]\tvalidation_0-rmse:0.814299\tvalidation_1-rmse:0.909069\n",
      "[51]\tvalidation_0-rmse:0.813836\tvalidation_1-rmse:0.909202\n",
      "[52]\tvalidation_0-rmse:0.813457\tvalidation_1-rmse:0.909299\n",
      "[53]\tvalidation_0-rmse:0.813041\tvalidation_1-rmse:0.908514\n",
      "[54]\tvalidation_0-rmse:0.812553\tvalidation_1-rmse:0.908678\n",
      "[55]\tvalidation_0-rmse:0.812201\tvalidation_1-rmse:0.908599\n",
      "[56]\tvalidation_0-rmse:0.811801\tvalidation_1-rmse:0.908475\n",
      "[57]\tvalidation_0-rmse:0.811482\tvalidation_1-rmse:0.908434\n",
      "[58]\tvalidation_0-rmse:0.811013\tvalidation_1-rmse:0.908559\n",
      "[59]\tvalidation_0-rmse:0.810587\tvalidation_1-rmse:0.908891\n",
      "[60]\tvalidation_0-rmse:0.810114\tvalidation_1-rmse:0.908868\n",
      "[61]\tvalidation_0-rmse:0.8098\tvalidation_1-rmse:0.909131\n",
      "[62]\tvalidation_0-rmse:0.809554\tvalidation_1-rmse:0.909318\n",
      "[63]\tvalidation_0-rmse:0.809125\tvalidation_1-rmse:0.91014\n",
      "[64]\tvalidation_0-rmse:0.808916\tvalidation_1-rmse:0.910696\n",
      "[65]\tvalidation_0-rmse:0.808557\tvalidation_1-rmse:0.910842\n",
      "[66]\tvalidation_0-rmse:0.808296\tvalidation_1-rmse:0.910693\n",
      "[67]\tvalidation_0-rmse:0.807998\tvalidation_1-rmse:0.91072\n",
      "Stopping. Best iteration:\n",
      "[57]\tvalidation_0-rmse:0.811482\tvalidation_1-rmse:0.908434\n",
      "\n"
     ]
    },
    {
     "data": {
      "text/plain": [
       "XGBRegressor(base_score=0.5, booster='gbtree', colsample_bylevel=1,\n",
       "       colsample_bytree=0.8, eta=0.3, gamma=0, importance_type='gain',\n",
       "       learning_rate=0.1, max_delta_step=0, max_depth=8,\n",
       "       min_child_weight=300, missing=None, n_estimators=1000, n_jobs=1,\n",
       "       nthread=6, objective='reg:linear', random_state=0, reg_alpha=0,\n",
       "       reg_lambda=1, scale_pos_weight=1, seed=42, silent=True,\n",
       "       subsample=0.8)"
      ]
     },
     "execution_count": 18,
     "metadata": {},
     "output_type": "execute_result"
    }
   ],
   "source": [
    "model = XGBRegressor(\n",
    "    max_depth=8,\n",
    "    n_estimators=1000,\n",
    "    min_child_weight=300, \n",
    "    colsample_bytree=0.8, \n",
    "    subsample=0.8, \n",
    "    nthread=6,\n",
    "    eta=0.3,    \n",
    "    seed=42)\n",
    "\n",
    "model.fit(\n",
    "    X_train, \n",
    "    Y_train, \n",
    "    eval_metric=\"rmse\", \n",
    "    eval_set=[(X_train, Y_train), (X_valid, Y_valid)], \n",
    "    verbose=True, \n",
    "    early_stopping_rounds = 10)"
   ]
  },
  {
   "cell_type": "code",
   "execution_count": 20,
   "metadata": {},
   "outputs": [],
   "source": [
    "Y_test = model.predict(X_test).clip(0, 20)\n",
    "\n",
    "submission = pd.DataFrame({\n",
    "    \"ID\": test.index, \n",
    "    \"item_cnt_month\": Y_test\n",
    "})\n",
    "submission.to_csv('xgb_submission_simple.csv', index=False)"
   ]
  },
  {
   "cell_type": "markdown",
   "metadata": {},
   "source": [
    "### Score \n",
    "\n",
    "0.92180"
   ]
  },
  {
   "cell_type": "markdown",
   "metadata": {},
   "source": [
    "## 3. Another XGBoost Model"
   ]
  },
  {
   "cell_type": "code",
   "execution_count": 21,
   "metadata": {},
   "outputs": [],
   "source": [
    "all_data = pd.read_pickle('data.pkl')\n",
    "data = all_data[[\n",
    "    'date_block_num',\n",
    "    'shop_id',\n",
    "    'item_id',\n",
    "    'item_cnt_month',\n",
    "    'city_code',\n",
    "    'item_category_id',\n",
    "    'type_code',\n",
    "    'subtype_code',\n",
    "    'item_cnt_month_lag_1',\n",
    "    'item_cnt_month_lag_2',\n",
    "    'item_cnt_month_lag_3',\n",
    "    'item_cnt_month_lag_6',\n",
    "    #'item_cnt_month_lag_12',\n",
    "    'date_avg_item_cnt_lag_1',\n",
    "    #'date_item_avg_item_cnt_lag_1',\n",
    "    'date_item_avg_item_cnt_lag_2',\n",
    "    'date_item_avg_item_cnt_lag_3',\n",
    "    'date_item_avg_item_cnt_lag_6',\n",
    "    #'date_item_avg_item_cnt_lag_12',\n",
    "    #'date_shop_avg_item_cnt_lag_1',\n",
    "    'date_shop_avg_item_cnt_lag_2',\n",
    "    'date_shop_avg_item_cnt_lag_3',\n",
    "    'date_shop_avg_item_cnt_lag_6',\n",
    "    #'date_shop_avg_item_cnt_lag_12',\n",
    "    'date_cat_avg_item_cnt_lag_1',\n",
    "    'date_shop_cat_avg_item_cnt_lag_1',\n",
    "    #'date_shop_type_avg_item_cnt_lag_1',\n",
    "    #'date_shop_subtype_avg_item_cnt_lag_1',\n",
    "    #'date_city_avg_item_cnt_lag_1',\n",
    "    #'date_item_city_avg_item_cnt_lag_1',\n",
    "    #'date_type_avg_item_cnt_lag_1',\n",
    "    #'date_subtype_avg_item_cnt_lag_1',\n",
    "    'delta_price_lag',\n",
    "    'month',\n",
    "    'days',\n",
    "    'item_shop_last_sale',\n",
    "    'item_last_sale',\n",
    "    'item_shop_first_sale',\n",
    "    'item_first_sale',\n",
    "]]"
   ]
  },
  {
   "cell_type": "code",
   "execution_count": 22,
   "metadata": {},
   "outputs": [],
   "source": [
    "X_train = data[data.date_block_num < 33].drop(['item_cnt_month'], axis=1)\n",
    "Y_train = data[data.date_block_num < 33]['item_cnt_month']\n",
    "X_valid = data[data.date_block_num == 33].drop(['item_cnt_month'], axis=1)\n",
    "Y_valid = data[data.date_block_num == 33]['item_cnt_month']\n",
    "X_test = data[data.date_block_num == 34].drop(['item_cnt_month'], axis=1)"
   ]
  },
  {
   "cell_type": "code",
   "execution_count": 29,
   "metadata": {},
   "outputs": [],
   "source": [
    "del all_data\n",
    "gc.collect();"
   ]
  },
  {
   "cell_type": "code",
   "execution_count": 24,
   "metadata": {},
   "outputs": [
    {
     "name": "stderr",
     "output_type": "stream",
     "text": [
      "/home/robin/anaconda3/envs/tensorflow/lib/python3.6/site-packages/xgboost/core.py:587: FutureWarning: Series.base is deprecated and will be removed in a future version\n",
      "  if getattr(data, 'base', None) is not None and \\\n",
      "/home/robin/anaconda3/envs/tensorflow/lib/python3.6/site-packages/xgboost/core.py:588: FutureWarning: Series.base is deprecated and will be removed in a future version\n",
      "  data.base is not None and isinstance(data, np.ndarray) \\\n"
     ]
    },
    {
     "name": "stdout",
     "output_type": "stream",
     "text": [
      "[0]\tvalidation_0-rmse:1.15937\tvalidation_1-rmse:1.12239\n",
      "Multiple eval metrics have been passed: 'validation_1-rmse' will be used for early stopping.\n",
      "\n",
      "Will train until validation_1-rmse hasn't improved in 10 rounds.\n",
      "[1]\tvalidation_0-rmse:1.1112\tvalidation_1-rmse:1.08447\n",
      "[2]\tvalidation_0-rmse:1.07113\tvalidation_1-rmse:1.05547\n",
      "[3]\tvalidation_0-rmse:1.03583\tvalidation_1-rmse:1.03002\n",
      "[4]\tvalidation_0-rmse:1.00857\tvalidation_1-rmse:1.01076\n",
      "[5]\tvalidation_0-rmse:0.984167\tvalidation_1-rmse:0.993591\n",
      "[6]\tvalidation_0-rmse:0.962345\tvalidation_1-rmse:0.976874\n",
      "[7]\tvalidation_0-rmse:0.946804\tvalidation_1-rmse:0.966845\n",
      "[8]\tvalidation_0-rmse:0.932867\tvalidation_1-rmse:0.957481\n",
      "[9]\tvalidation_0-rmse:0.918487\tvalidation_1-rmse:0.948516\n",
      "[10]\tvalidation_0-rmse:0.906417\tvalidation_1-rmse:0.940499\n",
      "[11]\tvalidation_0-rmse:0.89653\tvalidation_1-rmse:0.934549\n",
      "[12]\tvalidation_0-rmse:0.888435\tvalidation_1-rmse:0.929693\n",
      "[13]\tvalidation_0-rmse:0.880893\tvalidation_1-rmse:0.9263\n",
      "[14]\tvalidation_0-rmse:0.87476\tvalidation_1-rmse:0.923334\n",
      "[15]\tvalidation_0-rmse:0.869333\tvalidation_1-rmse:0.920138\n",
      "[16]\tvalidation_0-rmse:0.86492\tvalidation_1-rmse:0.918674\n",
      "[17]\tvalidation_0-rmse:0.861093\tvalidation_1-rmse:0.917299\n",
      "[18]\tvalidation_0-rmse:0.857701\tvalidation_1-rmse:0.916217\n",
      "[19]\tvalidation_0-rmse:0.854796\tvalidation_1-rmse:0.914793\n",
      "[20]\tvalidation_0-rmse:0.852039\tvalidation_1-rmse:0.914513\n",
      "[21]\tvalidation_0-rmse:0.849385\tvalidation_1-rmse:0.913285\n",
      "[22]\tvalidation_0-rmse:0.847494\tvalidation_1-rmse:0.913096\n",
      "[23]\tvalidation_0-rmse:0.845137\tvalidation_1-rmse:0.913414\n",
      "[24]\tvalidation_0-rmse:0.843258\tvalidation_1-rmse:0.913198\n",
      "[25]\tvalidation_0-rmse:0.841862\tvalidation_1-rmse:0.913396\n",
      "[26]\tvalidation_0-rmse:0.840477\tvalidation_1-rmse:0.912545\n",
      "[27]\tvalidation_0-rmse:0.839133\tvalidation_1-rmse:0.912426\n",
      "[28]\tvalidation_0-rmse:0.837958\tvalidation_1-rmse:0.912071\n",
      "[29]\tvalidation_0-rmse:0.836904\tvalidation_1-rmse:0.912218\n",
      "[30]\tvalidation_0-rmse:0.835763\tvalidation_1-rmse:0.912198\n",
      "[31]\tvalidation_0-rmse:0.834587\tvalidation_1-rmse:0.911981\n",
      "[32]\tvalidation_0-rmse:0.833786\tvalidation_1-rmse:0.912116\n",
      "[33]\tvalidation_0-rmse:0.833086\tvalidation_1-rmse:0.912525\n",
      "[34]\tvalidation_0-rmse:0.832196\tvalidation_1-rmse:0.912714\n",
      "[35]\tvalidation_0-rmse:0.831166\tvalidation_1-rmse:0.913304\n",
      "[36]\tvalidation_0-rmse:0.830252\tvalidation_1-rmse:0.913559\n",
      "[37]\tvalidation_0-rmse:0.829503\tvalidation_1-rmse:0.91394\n",
      "[38]\tvalidation_0-rmse:0.828869\tvalidation_1-rmse:0.913891\n",
      "[39]\tvalidation_0-rmse:0.828254\tvalidation_1-rmse:0.914113\n",
      "[40]\tvalidation_0-rmse:0.827765\tvalidation_1-rmse:0.913905\n",
      "[41]\tvalidation_0-rmse:0.827219\tvalidation_1-rmse:0.914132\n",
      "Stopping. Best iteration:\n",
      "[31]\tvalidation_0-rmse:0.834587\tvalidation_1-rmse:0.911981\n",
      "\n"
     ]
    },
    {
     "data": {
      "text/plain": [
       "XGBRegressor(base_score=0.5, booster='gbtree', colsample_bylevel=1,\n",
       "       colsample_bytree=0.8, eta=0.4, gamma=0, importance_type='gain',\n",
       "       learning_rate=0.1, max_delta_step=0, max_depth=8,\n",
       "       min_child_weight=300, missing=None, n_estimators=1100, n_jobs=1,\n",
       "       nthread=8, objective='reg:linear', random_state=0, reg_alpha=0,\n",
       "       reg_lambda=1, scale_pos_weight=1, seed=42, silent=True,\n",
       "       subsample=0.8)"
      ]
     },
     "execution_count": 24,
     "metadata": {},
     "output_type": "execute_result"
    }
   ],
   "source": [
    "model = XGBRegressor(\n",
    "    max_depth=8,\n",
    "    n_estimators=1100,\n",
    "    min_child_weight=300, \n",
    "    colsample_bytree=0.8, \n",
    "    subsample=0.8, \n",
    "    nthread=8,\n",
    "    eta=0.4,    \n",
    "    seed=42)\n",
    "\n",
    "model.fit(\n",
    "    X_train, \n",
    "    Y_train, \n",
    "    eval_metric=\"rmse\", \n",
    "    eval_set=[(X_train, Y_train), (X_valid, Y_valid)], \n",
    "    verbose=True, \n",
    "    early_stopping_rounds = 10)"
   ]
  },
  {
   "cell_type": "code",
   "execution_count": 25,
   "metadata": {},
   "outputs": [],
   "source": [
    "Y_test = model.predict(X_test).clip(0, 20)\n",
    "\n",
    "submission = pd.DataFrame({\n",
    "    \"ID\": test.index, \n",
    "    \"item_cnt_month\": Y_test\n",
    "})\n",
    "submission.to_csv('xgb_submission_another.csv', index=False)"
   ]
  },
  {
   "cell_type": "markdown",
   "metadata": {},
   "source": [
    "### Score \n",
    "\n",
    "0.92481"
   ]
  },
  {
   "cell_type": "markdown",
   "metadata": {},
   "source": [
    "## 4. Yet another XGBoost Model"
   ]
  },
  {
   "cell_type": "code",
   "execution_count": 3,
   "metadata": {},
   "outputs": [],
   "source": [
    "all_data = pd.read_pickle('data.pkl')"
   ]
  },
  {
   "cell_type": "code",
   "execution_count": 4,
   "metadata": {},
   "outputs": [],
   "source": [
    "data = all_data[[\n",
    "    'date_block_num',\n",
    "    'shop_id',\n",
    "    'item_id',\n",
    "    'item_cnt_month',\n",
    "    'city_code',\n",
    "    'item_category_id',\n",
    "    'type_code',\n",
    "    'subtype_code',\n",
    "    'item_cnt_month_lag_1',\n",
    "    'item_cnt_month_lag_2',\n",
    "    'item_cnt_month_lag_3',\n",
    "    'item_cnt_month_lag_6',\n",
    "    'item_cnt_month_lag_12',\n",
    "#     'date_avg_item_cnt_lag_1',\n",
    "#     #'date_item_avg_item_cnt_lag_1',\n",
    "#     'date_item_avg_item_cnt_lag_2',\n",
    "#     'date_item_avg_item_cnt_lag_3',\n",
    "#     'date_item_avg_item_cnt_lag_6',\n",
    "#     #'date_item_avg_item_cnt_lag_12',\n",
    "#     #'date_shop_avg_item_cnt_lag_1',\n",
    "#     'date_shop_avg_item_cnt_lag_2',\n",
    "#     'date_shop_avg_item_cnt_lag_3',\n",
    "#     'date_shop_avg_item_cnt_lag_6',\n",
    "#     #'date_shop_avg_item_cnt_lag_12',\n",
    "#     'date_cat_avg_item_cnt_lag_1',\n",
    "#     'date_shop_cat_avg_item_cnt_lag_1',\n",
    "#     #'date_shop_type_avg_item_cnt_lag_1',\n",
    "#     #'date_shop_subtype_avg_item_cnt_lag_1',\n",
    "#     #'date_city_avg_item_cnt_lag_1',\n",
    "#     #'date_item_city_avg_item_cnt_lag_1',\n",
    "#     #'date_type_avg_item_cnt_lag_1',\n",
    "#     #'date_subtype_avg_item_cnt_lag_1',\n",
    "    'delta_price_lag',\n",
    "    'month',\n",
    "    'days',\n",
    "    'item_shop_last_sale',\n",
    "    'item_last_sale',\n",
    "    'item_shop_first_sale',\n",
    "    'item_first_sale',\n",
    "]]"
   ]
  },
  {
   "cell_type": "code",
   "execution_count": 5,
   "metadata": {},
   "outputs": [],
   "source": [
    "X_train = data[data.date_block_num < 33].drop(['item_cnt_month'], axis=1)\n",
    "Y_train = data[data.date_block_num < 33]['item_cnt_month']\n",
    "X_valid = data[data.date_block_num == 33].drop(['item_cnt_month'], axis=1)\n",
    "Y_valid = data[data.date_block_num == 33]['item_cnt_month']\n",
    "X_test = data[data.date_block_num == 34].drop(['item_cnt_month'], axis=1)"
   ]
  },
  {
   "cell_type": "code",
   "execution_count": 6,
   "metadata": {},
   "outputs": [],
   "source": [
    "del data\n",
    "gc.collect();"
   ]
  },
  {
   "cell_type": "code",
   "execution_count": 7,
   "metadata": {},
   "outputs": [
    {
     "name": "stderr",
     "output_type": "stream",
     "text": [
      "/home/robin/anaconda3/envs/tensorflow/lib/python3.6/site-packages/xgboost/core.py:587: FutureWarning: Series.base is deprecated and will be removed in a future version\n",
      "  if getattr(data, 'base', None) is not None and \\\n",
      "/home/robin/anaconda3/envs/tensorflow/lib/python3.6/site-packages/xgboost/core.py:588: FutureWarning: Series.base is deprecated and will be removed in a future version\n",
      "  data.base is not None and isinstance(data, np.ndarray) \\\n"
     ]
    },
    {
     "name": "stdout",
     "output_type": "stream",
     "text": [
      "[0]\tvalidation_0-rmse:1.15389\tvalidation_1-rmse:1.11942\n",
      "Multiple eval metrics have been passed: 'validation_1-rmse' will be used for early stopping.\n",
      "\n",
      "Will train until validation_1-rmse hasn't improved in 10 rounds.\n",
      "[1]\tvalidation_0-rmse:1.10856\tvalidation_1-rmse:1.08369\n",
      "[2]\tvalidation_0-rmse:1.06889\tvalidation_1-rmse:1.0531\n",
      "[3]\tvalidation_0-rmse:1.03885\tvalidation_1-rmse:1.03198\n",
      "[4]\tvalidation_0-rmse:1.01346\tvalidation_1-rmse:1.01461\n",
      "[5]\tvalidation_0-rmse:0.99191\tvalidation_1-rmse:0.998425\n",
      "[6]\tvalidation_0-rmse:0.969723\tvalidation_1-rmse:0.982163\n",
      "[7]\tvalidation_0-rmse:0.951367\tvalidation_1-rmse:0.969082\n",
      "[8]\tvalidation_0-rmse:0.935517\tvalidation_1-rmse:0.958106\n",
      "[9]\tvalidation_0-rmse:0.922334\tvalidation_1-rmse:0.949642\n",
      "[10]\tvalidation_0-rmse:0.911593\tvalidation_1-rmse:0.943017\n",
      "[11]\tvalidation_0-rmse:0.902384\tvalidation_1-rmse:0.937546\n",
      "[12]\tvalidation_0-rmse:0.894541\tvalidation_1-rmse:0.93323\n",
      "[13]\tvalidation_0-rmse:0.888532\tvalidation_1-rmse:0.930277\n",
      "[14]\tvalidation_0-rmse:0.883487\tvalidation_1-rmse:0.927564\n",
      "[15]\tvalidation_0-rmse:0.878654\tvalidation_1-rmse:0.925716\n",
      "[16]\tvalidation_0-rmse:0.873968\tvalidation_1-rmse:0.924202\n",
      "[17]\tvalidation_0-rmse:0.870716\tvalidation_1-rmse:0.922643\n",
      "[18]\tvalidation_0-rmse:0.867399\tvalidation_1-rmse:0.921297\n",
      "[19]\tvalidation_0-rmse:0.864824\tvalidation_1-rmse:0.920336\n",
      "[20]\tvalidation_0-rmse:0.862076\tvalidation_1-rmse:0.919099\n",
      "[21]\tvalidation_0-rmse:0.859892\tvalidation_1-rmse:0.918581\n",
      "[22]\tvalidation_0-rmse:0.857556\tvalidation_1-rmse:0.917668\n",
      "[23]\tvalidation_0-rmse:0.855758\tvalidation_1-rmse:0.917076\n",
      "[24]\tvalidation_0-rmse:0.854214\tvalidation_1-rmse:0.916436\n",
      "[25]\tvalidation_0-rmse:0.852635\tvalidation_1-rmse:0.915448\n",
      "[26]\tvalidation_0-rmse:0.851059\tvalidation_1-rmse:0.914855\n",
      "[27]\tvalidation_0-rmse:0.849677\tvalidation_1-rmse:0.914947\n",
      "[28]\tvalidation_0-rmse:0.84858\tvalidation_1-rmse:0.914353\n",
      "[29]\tvalidation_0-rmse:0.847144\tvalidation_1-rmse:0.913841\n",
      "[30]\tvalidation_0-rmse:0.846181\tvalidation_1-rmse:0.913901\n",
      "[31]\tvalidation_0-rmse:0.845045\tvalidation_1-rmse:0.913238\n",
      "[32]\tvalidation_0-rmse:0.844102\tvalidation_1-rmse:0.913043\n",
      "[33]\tvalidation_0-rmse:0.843196\tvalidation_1-rmse:0.913162\n",
      "[34]\tvalidation_0-rmse:0.842543\tvalidation_1-rmse:0.913048\n",
      "[35]\tvalidation_0-rmse:0.841676\tvalidation_1-rmse:0.913053\n",
      "[36]\tvalidation_0-rmse:0.840969\tvalidation_1-rmse:0.912887\n",
      "[37]\tvalidation_0-rmse:0.840361\tvalidation_1-rmse:0.912041\n",
      "[38]\tvalidation_0-rmse:0.839776\tvalidation_1-rmse:0.911825\n",
      "[39]\tvalidation_0-rmse:0.83905\tvalidation_1-rmse:0.912075\n",
      "[40]\tvalidation_0-rmse:0.838371\tvalidation_1-rmse:0.912022\n",
      "[41]\tvalidation_0-rmse:0.837825\tvalidation_1-rmse:0.911335\n",
      "[42]\tvalidation_0-rmse:0.83738\tvalidation_1-rmse:0.911152\n",
      "[43]\tvalidation_0-rmse:0.836282\tvalidation_1-rmse:0.910968\n",
      "[44]\tvalidation_0-rmse:0.835832\tvalidation_1-rmse:0.910741\n",
      "[45]\tvalidation_0-rmse:0.835305\tvalidation_1-rmse:0.910497\n",
      "[46]\tvalidation_0-rmse:0.834439\tvalidation_1-rmse:0.91022\n",
      "[47]\tvalidation_0-rmse:0.833953\tvalidation_1-rmse:0.909126\n",
      "[48]\tvalidation_0-rmse:0.83361\tvalidation_1-rmse:0.909043\n",
      "[49]\tvalidation_0-rmse:0.832642\tvalidation_1-rmse:0.909766\n",
      "[50]\tvalidation_0-rmse:0.832204\tvalidation_1-rmse:0.909643\n",
      "[51]\tvalidation_0-rmse:0.831624\tvalidation_1-rmse:0.908573\n",
      "[52]\tvalidation_0-rmse:0.831021\tvalidation_1-rmse:0.908088\n",
      "[53]\tvalidation_0-rmse:0.830598\tvalidation_1-rmse:0.907735\n",
      "[54]\tvalidation_0-rmse:0.830153\tvalidation_1-rmse:0.907827\n",
      "[55]\tvalidation_0-rmse:0.829951\tvalidation_1-rmse:0.907856\n",
      "[56]\tvalidation_0-rmse:0.829629\tvalidation_1-rmse:0.907736\n",
      "[57]\tvalidation_0-rmse:0.829189\tvalidation_1-rmse:0.908329\n",
      "[58]\tvalidation_0-rmse:0.828555\tvalidation_1-rmse:0.907968\n",
      "[59]\tvalidation_0-rmse:0.828106\tvalidation_1-rmse:0.908314\n",
      "[60]\tvalidation_0-rmse:0.82782\tvalidation_1-rmse:0.90771\n",
      "[61]\tvalidation_0-rmse:0.827467\tvalidation_1-rmse:0.9075\n",
      "[62]\tvalidation_0-rmse:0.827297\tvalidation_1-rmse:0.907464\n",
      "[63]\tvalidation_0-rmse:0.826136\tvalidation_1-rmse:0.906925\n",
      "[64]\tvalidation_0-rmse:0.825631\tvalidation_1-rmse:0.906932\n",
      "[65]\tvalidation_0-rmse:0.825113\tvalidation_1-rmse:0.906536\n",
      "[66]\tvalidation_0-rmse:0.824768\tvalidation_1-rmse:0.906283\n",
      "[67]\tvalidation_0-rmse:0.824614\tvalidation_1-rmse:0.905286\n",
      "[68]\tvalidation_0-rmse:0.824281\tvalidation_1-rmse:0.905341\n",
      "[69]\tvalidation_0-rmse:0.824053\tvalidation_1-rmse:0.90528\n",
      "[70]\tvalidation_0-rmse:0.823641\tvalidation_1-rmse:0.905202\n",
      "[71]\tvalidation_0-rmse:0.823235\tvalidation_1-rmse:0.904947\n",
      "[72]\tvalidation_0-rmse:0.823124\tvalidation_1-rmse:0.904872\n",
      "[73]\tvalidation_0-rmse:0.822752\tvalidation_1-rmse:0.904588\n",
      "[74]\tvalidation_0-rmse:0.822586\tvalidation_1-rmse:0.904593\n",
      "[75]\tvalidation_0-rmse:0.822358\tvalidation_1-rmse:0.904682\n",
      "[76]\tvalidation_0-rmse:0.822232\tvalidation_1-rmse:0.904725\n",
      "[77]\tvalidation_0-rmse:0.822083\tvalidation_1-rmse:0.905051\n",
      "[78]\tvalidation_0-rmse:0.821487\tvalidation_1-rmse:0.90479\n",
      "[79]\tvalidation_0-rmse:0.821331\tvalidation_1-rmse:0.904963\n",
      "[80]\tvalidation_0-rmse:0.821053\tvalidation_1-rmse:0.904774\n",
      "[81]\tvalidation_0-rmse:0.820606\tvalidation_1-rmse:0.904612\n",
      "[82]\tvalidation_0-rmse:0.820394\tvalidation_1-rmse:0.904577\n",
      "[83]\tvalidation_0-rmse:0.820098\tvalidation_1-rmse:0.903759\n",
      "[84]\tvalidation_0-rmse:0.819817\tvalidation_1-rmse:0.903699\n",
      "[85]\tvalidation_0-rmse:0.81956\tvalidation_1-rmse:0.903437\n",
      "[86]\tvalidation_0-rmse:0.819275\tvalidation_1-rmse:0.903265\n",
      "[87]\tvalidation_0-rmse:0.819025\tvalidation_1-rmse:0.903288\n",
      "[88]\tvalidation_0-rmse:0.818908\tvalidation_1-rmse:0.903086\n",
      "[89]\tvalidation_0-rmse:0.818699\tvalidation_1-rmse:0.9032\n",
      "[90]\tvalidation_0-rmse:0.818178\tvalidation_1-rmse:0.902926\n",
      "[91]\tvalidation_0-rmse:0.817985\tvalidation_1-rmse:0.902622\n",
      "[92]\tvalidation_0-rmse:0.817564\tvalidation_1-rmse:0.902261\n",
      "[93]\tvalidation_0-rmse:0.816757\tvalidation_1-rmse:0.901271\n",
      "[94]\tvalidation_0-rmse:0.816605\tvalidation_1-rmse:0.901298\n",
      "[95]\tvalidation_0-rmse:0.816243\tvalidation_1-rmse:0.901479\n",
      "[96]\tvalidation_0-rmse:0.815862\tvalidation_1-rmse:0.901184\n",
      "[97]\tvalidation_0-rmse:0.815294\tvalidation_1-rmse:0.900887\n",
      "[98]\tvalidation_0-rmse:0.814607\tvalidation_1-rmse:0.900662\n",
      "[99]\tvalidation_0-rmse:0.814472\tvalidation_1-rmse:0.900598\n",
      "[100]\tvalidation_0-rmse:0.814268\tvalidation_1-rmse:0.900442\n",
      "[101]\tvalidation_0-rmse:0.813699\tvalidation_1-rmse:0.902051\n",
      "[102]\tvalidation_0-rmse:0.813628\tvalidation_1-rmse:0.901967\n",
      "[103]\tvalidation_0-rmse:0.813388\tvalidation_1-rmse:0.90221\n",
      "[104]\tvalidation_0-rmse:0.8128\tvalidation_1-rmse:0.902\n",
      "[105]\tvalidation_0-rmse:0.812628\tvalidation_1-rmse:0.901836\n",
      "[106]\tvalidation_0-rmse:0.812505\tvalidation_1-rmse:0.901703\n",
      "[107]\tvalidation_0-rmse:0.812014\tvalidation_1-rmse:0.901847\n",
      "[108]\tvalidation_0-rmse:0.811909\tvalidation_1-rmse:0.90179\n",
      "[109]\tvalidation_0-rmse:0.811783\tvalidation_1-rmse:0.901836\n",
      "[110]\tvalidation_0-rmse:0.811623\tvalidation_1-rmse:0.901739\n",
      "Stopping. Best iteration:\n",
      "[100]\tvalidation_0-rmse:0.814268\tvalidation_1-rmse:0.900442\n",
      "\n"
     ]
    },
    {
     "data": {
      "text/plain": [
       "XGBRegressor(base_score=0.5, booster='gbtree', colsample_bylevel=1,\n",
       "       colsample_bytree=0.8, eta=0.3, gamma=0, importance_type='gain',\n",
       "       learning_rate=0.1, max_delta_step=0, max_depth=8,\n",
       "       min_child_weight=300, missing=None, n_estimators=1000, n_jobs=1,\n",
       "       nthread=8, objective='reg:linear', random_state=0, reg_alpha=0,\n",
       "       reg_lambda=1, scale_pos_weight=1, seed=40, silent=True,\n",
       "       subsample=0.8)"
      ]
     },
     "execution_count": 7,
     "metadata": {},
     "output_type": "execute_result"
    }
   ],
   "source": [
    "model = XGBRegressor(\n",
    "    max_depth=8,\n",
    "    n_estimators=1000,\n",
    "    min_child_weight=300, \n",
    "    colsample_bytree=0.8, \n",
    "    subsample=0.8, \n",
    "    eta=0.3,  \n",
    "    nthread=8,\n",
    "    seed=40)\n",
    "\n",
    "model.fit(\n",
    "    X_train, \n",
    "    Y_train, \n",
    "    eval_metric=\"rmse\", \n",
    "    eval_set=[(X_train, Y_train), (X_valid, Y_valid)], \n",
    "    verbose=True, \n",
    "    early_stopping_rounds = 10)"
   ]
  },
  {
   "cell_type": "code",
   "execution_count": 8,
   "metadata": {},
   "outputs": [],
   "source": [
    "Y_test = model.predict(X_test).clip(0, 20)\n",
    "\n",
    "submission = pd.DataFrame({\n",
    "    \"ID\": test.index, \n",
    "    \"item_cnt_month\": Y_test\n",
    "})\n",
    "submission.to_csv('xgb_submission_yet_another.csv', index=False)"
   ]
  },
  {
   "cell_type": "markdown",
   "metadata": {},
   "source": [
    "### Score \n",
    "\n",
    "0.90987"
   ]
  },
  {
   "cell_type": "markdown",
   "metadata": {},
   "source": [
    "## 5. Combining Models\n",
    "\n",
    "對四個 Model 的結果進行平均"
   ]
  },
  {
   "cell_type": "code",
   "execution_count": 10,
   "metadata": {},
   "outputs": [],
   "source": [
    "# Original Author's submission file\n",
    "model0 = pd.read_csv('xgb_submission_author.csv')\n",
    "\n",
    "model1 = pd.read_csv('xgb_submission_orig.csv')\n",
    "model2 = pd.read_csv('xgb_submission_simple.csv')\n",
    "model3 = pd.read_csv('xgb_submission_another.csv')\n",
    "model4 = pd.read_csv('xgb_submission_yet_another.csv')"
   ]
  },
  {
   "cell_type": "markdown",
   "metadata": {},
   "source": [
    "### Mean of 4 Models"
   ]
  },
  {
   "cell_type": "code",
   "execution_count": 17,
   "metadata": {},
   "outputs": [],
   "source": [
    "mean = model1.item_cnt_month + model2.item_cnt_month + model3.item_cnt_month + model4.item_cnt_month \n",
    "mean /= 4\n",
    "\n",
    "submission = pd.DataFrame({\n",
    "    \"ID\": test.index, \n",
    "    \"item_cnt_month\": mean\n",
    "})"
   ]
  },
  {
   "cell_type": "code",
   "execution_count": 18,
   "metadata": {},
   "outputs": [
    {
     "data": {
      "text/html": [
       "<div>\n",
       "<style scoped>\n",
       "    .dataframe tbody tr th:only-of-type {\n",
       "        vertical-align: middle;\n",
       "    }\n",
       "\n",
       "    .dataframe tbody tr th {\n",
       "        vertical-align: top;\n",
       "    }\n",
       "\n",
       "    .dataframe thead th {\n",
       "        text-align: right;\n",
       "    }\n",
       "</style>\n",
       "<table border=\"1\" class=\"dataframe\">\n",
       "  <thead>\n",
       "    <tr style=\"text-align: right;\">\n",
       "      <th></th>\n",
       "      <th>ID</th>\n",
       "      <th>item_cnt_month</th>\n",
       "    </tr>\n",
       "  </thead>\n",
       "  <tbody>\n",
       "    <tr>\n",
       "      <th>0</th>\n",
       "      <td>0</td>\n",
       "      <td>0.805874</td>\n",
       "    </tr>\n",
       "    <tr>\n",
       "      <th>1</th>\n",
       "      <td>1</td>\n",
       "      <td>0.444560</td>\n",
       "    </tr>\n",
       "    <tr>\n",
       "      <th>2</th>\n",
       "      <td>2</td>\n",
       "      <td>1.412118</td>\n",
       "    </tr>\n",
       "    <tr>\n",
       "      <th>3</th>\n",
       "      <td>3</td>\n",
       "      <td>0.472407</td>\n",
       "    </tr>\n",
       "    <tr>\n",
       "      <th>4</th>\n",
       "      <td>4</td>\n",
       "      <td>3.476897</td>\n",
       "    </tr>\n",
       "  </tbody>\n",
       "</table>\n",
       "</div>"
      ],
      "text/plain": [
       "   ID  item_cnt_month\n",
       "0   0        0.805874\n",
       "1   1        0.444560\n",
       "2   2        1.412118\n",
       "3   3        0.472407\n",
       "4   4        3.476897"
      ]
     },
     "execution_count": 18,
     "metadata": {},
     "output_type": "execute_result"
    }
   ],
   "source": [
    "submission.head()"
   ]
  },
  {
   "cell_type": "code",
   "execution_count": 19,
   "metadata": {},
   "outputs": [],
   "source": [
    "submission.to_csv('model_mean_4.csv', index=False)"
   ]
  },
  {
   "cell_type": "markdown",
   "metadata": {},
   "source": [
    "#### Score\n",
    "\n",
    "0.91293"
   ]
  },
  {
   "cell_type": "markdown",
   "metadata": {},
   "source": [
    "### Mean of 2 Best Models\n",
    "\n",
    "因爲 Model 0 和 Model 4 的 Validation Score 最高，優先考慮平均這兩個 Model"
   ]
  },
  {
   "cell_type": "code",
   "execution_count": 11,
   "metadata": {},
   "outputs": [],
   "source": [
    "mean = model0.item_cnt_month + model4.item_cnt_month\n",
    "mean /= 2\n",
    "\n",
    "submission = pd.DataFrame({\n",
    "    \"ID\": test.index, \n",
    "    \"item_cnt_month\": mean\n",
    "})\n",
    "\n",
    "submission.to_csv('model_mean_04.csv', index=False)"
   ]
  },
  {
   "cell_type": "markdown",
   "metadata": {},
   "source": [
    "#### Score\n",
    "0.90186\n",
    "\n",
    "發現分數有很大的提升"
   ]
  },
  {
   "cell_type": "markdown",
   "metadata": {},
   "source": [
    "### Different Weighted mean of model0 and model4\n",
    "\n",
    "因爲單純平均就有 0.90186，進一步計算各種加權平均"
   ]
  },
  {
   "cell_type": "code",
   "execution_count": 12,
   "metadata": {},
   "outputs": [],
   "source": [
    "weighted_mean = model0.item_cnt_month * 0.6 + model4.item_cnt_month * 0.4\n",
    "\n",
    "submission = pd.DataFrame({\n",
    "    \"ID\": test.index, \n",
    "    \"item_cnt_month\": weighted_mean\n",
    "})\n",
    "\n",
    "submission.to_csv('weighted_6_4_model_mean_04.csv', index=False)"
   ]
  },
  {
   "cell_type": "markdown",
   "metadata": {},
   "source": [
    "#### Score \n",
    "0.90177"
   ]
  },
  {
   "cell_type": "code",
   "execution_count": 14,
   "metadata": {},
   "outputs": [],
   "source": [
    "weighted_mean = model0.item_cnt_month * 0.7 + model4.item_cnt_month * 0.3\n",
    "\n",
    "submission = pd.DataFrame({\n",
    "    \"ID\": test.index, \n",
    "    \"item_cnt_month\": weighted_mean\n",
    "})\n",
    "\n",
    "submission.to_csv('weighted_7_3_model_mean_04.csv', index=False)"
   ]
  },
  {
   "cell_type": "markdown",
   "metadata": {},
   "source": [
    "#### Score\n",
    "0.90219"
   ]
  },
  {
   "cell_type": "code",
   "execution_count": 13,
   "metadata": {},
   "outputs": [],
   "source": [
    "weighted_mean = model0.item_cnt_month * 0.4 + model4.item_cnt_month * 0.6\n",
    "\n",
    "submission = pd.DataFrame({\n",
    "    \"ID\": test.index, \n",
    "    \"item_cnt_month\": weighted_mean\n",
    "})\n",
    "\n",
    "submission.to_csv('weighted_4_6_model_mean_04.csv', index=False)"
   ]
  },
  {
   "cell_type": "markdown",
   "metadata": {},
   "source": [
    "#### Score\n",
    "0.90246"
   ]
  },
  {
   "cell_type": "code",
   "execution_count": 15,
   "metadata": {},
   "outputs": [],
   "source": [
    "weighted_mean = model0.item_cnt_month * 0.8 + model4.item_cnt_month * 0.2\n",
    "\n",
    "submission = pd.DataFrame({\n",
    "    \"ID\": test.index, \n",
    "    \"item_cnt_month\": weighted_mean\n",
    "})\n",
    "\n",
    "submission.to_csv('weighted_8_2_model_mean_04.csv', index=False)"
   ]
  },
  {
   "cell_type": "markdown",
   "metadata": {},
   "source": [
    "#### Score\n",
    "0.90311"
   ]
  },
  {
   "cell_type": "code",
   "execution_count": 16,
   "metadata": {},
   "outputs": [],
   "source": [
    "weighted_mean = model0.item_cnt_month * 0.55 + model4.item_cnt_month * 0.45\n",
    "\n",
    "submission = pd.DataFrame({\n",
    "    \"ID\": test.index, \n",
    "    \"item_cnt_month\": weighted_mean\n",
    "})\n",
    "\n",
    "submission.to_csv('weighted_55_45_model_mean_04.csv', index=False)"
   ]
  },
  {
   "cell_type": "markdown",
   "metadata": {},
   "source": [
    "#### Score\n",
    "0.90176"
   ]
  },
  {
   "cell_type": "markdown",
   "metadata": {},
   "source": [
    "## 6. Result Summary\n",
    "\n",
    "* Author's Result: 0.90646\n",
    "* Orig XGBoost: 0.91946\n",
    "* Simplified XGBoost: 0.92180\n",
    "* Another XGBoost: 0.92481\n",
    "* Yet Another XGBoost: 0.90987\n",
    "* Mean of 4 models: 0.91293\n",
    "* Mean of 2 best models: 0.90186\n",
    "* Weight mean of 2 best models: 0.90176"
   ]
  },
  {
   "cell_type": "code",
   "execution_count": null,
   "metadata": {},
   "outputs": [],
   "source": []
  }
 ],
 "metadata": {
  "kernelspec": {
   "display_name": "Python 3",
   "language": "python",
   "name": "python3"
  },
  "language_info": {
   "codemirror_mode": {
    "name": "ipython",
    "version": 3
   },
   "file_extension": ".py",
   "mimetype": "text/x-python",
   "name": "python",
   "nbconvert_exporter": "python",
   "pygments_lexer": "ipython3",
   "version": "3.6.7"
  }
 },
 "nbformat": 4,
 "nbformat_minor": 2
}
